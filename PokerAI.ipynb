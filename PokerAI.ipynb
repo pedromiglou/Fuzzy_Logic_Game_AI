{
 "cells": [
  {
   "attachments": {},
   "cell_type": "markdown",
   "id": "3693df1b",
   "metadata": {},
   "source": [
    "## Imports"
   ]
  },
  {
   "cell_type": "code",
   "execution_count": null,
   "id": "ce7c9205",
   "metadata": {},
   "outputs": [],
   "source": [
    "import numpy as np\n",
    "import skfuzzy as fuzz\n",
    "from skfuzzy import control as ctrl\n",
    "import matplotlib.pyplot as plt\n",
    "%matplotlib inline"
   ]
  },
  {
   "cell_type": "code",
   "execution_count": null,
   "id": "cd50d7c8",
   "metadata": {},
   "outputs": [],
   "source": [
    "# Tips\n",
    "# suit['low'] = fuzz.membership.trimf(np.arange(MIN,MAX, 1), [0,0,4]) # the last list means [start, max, end]\n",
    "# suit['normal'] = fuzz.membership.trapmf(np.arange(MIN,MAX, 1), [0,5,5,10]) # the last list means [start, max-start, max-end, end]"
   ]
  },
  {
   "cell_type": "code",
   "execution_count": null,
   "id": "eee559c9",
   "metadata": {},
   "outputs": [],
   "source": [
    "low = [0,0,25,50]\n",
    "medium = [25,50,50,75]\n",
    "high = [50,75,100,100]"
   ]
  },
  {
   "cell_type": "code",
   "execution_count": null,
   "id": "9aa8702a",
   "metadata": {},
   "outputs": [],
   "source": [
    "# Royal Flush\n",
    "hand_rank = 1\n",
    "names = ['low', 'normal', 'high']\n",
    "MIN = 0; MAX = 100\n",
    "probRF = ctrl.Antecedent(np.arange(MIN,MAX, 1), 'probRF')\n",
    "probRF.automf(3, names=names)\n",
    "probRF['low'] = fuzz.membership.trapmf(np.arange(MIN,MAX, 1), low) * hand_rank\n",
    "probRF['normal'] = fuzz.membership.trapmf(np.arange(MIN,MAX, 1), medium) * hand_rank\n",
    "probRF['high'] = fuzz.membership.trapmf(np.arange(MIN,MAX, 1), high) * hand_rank\n",
    "probRF.view()"
   ]
  },
  {
   "cell_type": "code",
   "execution_count": null,
   "id": "b9aec583",
   "metadata": {},
   "outputs": [],
   "source": [
    "# Straight Flush\n",
    "hand_rank = 0.9\n",
    "names = ['low', 'normal', 'high']\n",
    "MIN = 0; MAX = 100\n",
    "probSF = ctrl.Antecedent(np.arange(MIN,MAX, 1), 'probSF')\n",
    "probSF.automf(3, names=names)\n",
    "probSF['low'] = fuzz.membership.trapmf(np.arange(MIN,MAX, 1), low) * hand_rank\n",
    "probSF['normal'] = fuzz.membership.trapmf(np.arange(MIN,MAX, 1), medium) * hand_rank\n",
    "probSF['high'] = fuzz.membership.trapmf(np.arange(MIN,MAX, 1), high) * hand_rank\n",
    "probSF.view()"
   ]
  },
  {
   "cell_type": "code",
   "execution_count": null,
   "id": "21ce0b33",
   "metadata": {},
   "outputs": [],
   "source": [
    "# Four of a Kind\n",
    "hand_rank = 0.8\n",
    "names = ['low', 'normal', 'high']\n",
    "MIN = 0; MAX = 100\n",
    "probFK = ctrl.Antecedent(np.arange(MIN,MAX, 1), 'probFK')\n",
    "probFK.automf(3, names=names)\n",
    "probFK['low'] = fuzz.membership.trapmf(np.arange(MIN,MAX, 1), low) * hand_rank\n",
    "probFK['normal'] = fuzz.membership.trapmf(np.arange(MIN,MAX, 1), medium) * hand_rank\n",
    "probFK['high'] = fuzz.membership.trapmf(np.arange(MIN,MAX, 1), high) * hand_rank\n",
    "probFK.view()"
   ]
  },
  {
   "cell_type": "code",
   "execution_count": null,
   "id": "6abe0271",
   "metadata": {},
   "outputs": [],
   "source": [
    "# Full House\n",
    "hand_rank = 0.7\n",
    "names = ['low', 'normal', 'high']\n",
    "MIN = 0; MAX = 100\n",
    "probFH = ctrl.Antecedent(np.arange(MIN,MAX, 1), 'probFH')\n",
    "probFH.automf(3, names=names)\n",
    "probFH['low'] = fuzz.membership.trapmf(np.arange(MIN,MAX, 1), low) * hand_rank\n",
    "probFH['normal'] = fuzz.membership.trapmf(np.arange(MIN,MAX, 1), medium) * hand_rank\n",
    "probFH['high'] = fuzz.membership.trapmf(np.arange(MIN,MAX, 1), high) * hand_rank\n",
    "probFH.view()"
   ]
  },
  {
   "cell_type": "code",
   "execution_count": null,
   "id": "5fe661f7",
   "metadata": {},
   "outputs": [],
   "source": [
    "# Flush\n",
    "hand_rank = 0.6\n",
    "names = ['low', 'normal', 'high']\n",
    "MIN = 0; MAX = 100\n",
    "probF = ctrl.Antecedent(np.arange(MIN,MAX, 1), 'probF')\n",
    "probF.automf(3, names=names)\n",
    "probF['low'] = fuzz.membership.trapmf(np.arange(MIN,MAX, 1), low) * hand_rank\n",
    "probF['normal'] = fuzz.membership.trapmf(np.arange(MIN,MAX, 1), medium) * hand_rank\n",
    "probF['high'] = fuzz.membership.trapmf(np.arange(MIN,MAX, 1), high) * hand_rank\n",
    "probF.view()"
   ]
  },
  {
   "cell_type": "code",
   "execution_count": null,
   "id": "7ca5dbd5",
   "metadata": {},
   "outputs": [],
   "source": [
    "# Straight\n",
    "hand_rank = 0.5\n",
    "names = ['low', 'normal', 'high']\n",
    "MIN = 0; MAX = 100\n",
    "probS = ctrl.Antecedent(np.arange(MIN,MAX, 1), 'probS')\n",
    "probS.automf(3, names=names)\n",
    "probS['low'] = fuzz.membership.trapmf(np.arange(MIN,MAX, 1), low) * hand_rank\n",
    "probS['normal'] = fuzz.membership.trapmf(np.arange(MIN,MAX, 1), medium) * hand_rank\n",
    "probS['high'] = fuzz.membership.trapmf(np.arange(MIN,MAX, 1), high) * hand_rank\n",
    "probS.view()"
   ]
  },
  {
   "cell_type": "code",
   "execution_count": null,
   "id": "aae07c7b",
   "metadata": {},
   "outputs": [],
   "source": [
    "# Three of a Kind\n",
    "hand_rank = 0.4\n",
    "names = ['low', 'normal', 'high']\n",
    "MIN = 0; MAX = 100\n",
    "probTK = ctrl.Antecedent(np.arange(MIN,MAX, 1), 'probTK')\n",
    "probTK.automf(3, names=names)\n",
    "probTK['low'] = fuzz.membership.trapmf(np.arange(MIN,MAX, 1), low) * hand_rank\n",
    "probTK['normal'] = fuzz.membership.trapmf(np.arange(MIN,MAX, 1), medium) * hand_rank\n",
    "probTK['high'] = fuzz.membership.trapmf(np.arange(MIN,MAX, 1), high) * hand_rank\n",
    "probTK.view()"
   ]
  },
  {
   "cell_type": "code",
   "execution_count": null,
   "id": "dafb8e32",
   "metadata": {},
   "outputs": [],
   "source": [
    "# Two Pair\n",
    "hand_rank = 0.3\n",
    "names = ['low', 'normal', 'high']\n",
    "MIN = 0; MAX = 100\n",
    "probTP = ctrl.Antecedent(np.arange(MIN,MAX, 1), 'probTP')\n",
    "probTP.automf(3, names=names)\n",
    "probTP['low'] = fuzz.membership.trapmf(np.arange(MIN,MAX, 1), low) * hand_rank\n",
    "probTP['normal'] = fuzz.membership.trapmf(np.arange(MIN,MAX, 1), medium) * hand_rank\n",
    "probTP['high'] = fuzz.membership.trapmf(np.arange(MIN,MAX, 1), high) * hand_rank\n",
    "probTP.view()"
   ]
  },
  {
   "cell_type": "code",
   "execution_count": null,
   "id": "f765abe0",
   "metadata": {},
   "outputs": [],
   "source": [
    "# One Pair\n",
    "hand_rank = 0.2\n",
    "names = ['low', 'normal', 'high']\n",
    "MIN = 0; MAX = 100\n",
    "probOP = ctrl.Antecedent(np.arange(MIN,MAX, 1), 'probOP')\n",
    "probOP.automf(3, names=names)\n",
    "probOP['low'] = fuzz.membership.trapmf(np.arange(MIN,MAX, 1), low) * hand_rank\n",
    "probOP['normal'] = fuzz.membership.trapmf(np.arange(MIN,MAX, 1), medium) * hand_rank\n",
    "probOP['high'] = fuzz.membership.trapmf(np.arange(MIN,MAX, 1), high) * hand_rank\n",
    "probOP.view()"
   ]
  },
  {
   "cell_type": "code",
   "execution_count": null,
   "id": "d8f075c8",
   "metadata": {},
   "outputs": [],
   "source": [
    "# High Card\n",
    "hand_rank = 0.1\n",
    "names = ['low', 'normal', 'high']\n",
    "MIN = 0; MAX = 100\n",
    "probHC = ctrl.Antecedent(np.arange(MIN,MAX, 1), 'probHC')\n",
    "probHC.automf(3, names=names)\n",
    "probHC['low'] = fuzz.membership.trapmf(np.arange(MIN,MAX, 1), low) * hand_rank\n",
    "probHC['normal'] = fuzz.membership.trapmf(np.arange(MIN,MAX, 1), medium) * hand_rank\n",
    "probHC['high'] = fuzz.membership.trapmf(np.arange(MIN,MAX, 1), high) * hand_rank\n",
    "probHC.view()"
   ]
  },
  {
   "cell_type": "code",
   "execution_count": null,
   "id": "5ae1a443",
   "metadata": {},
   "outputs": [],
   "source": [
    "# FUSSIFICATION\n",
    "names = ['low', 'normal', 'high']\n",
    "MIN = 1; MAX = 10\n",
    "suit = ctrl.Consequent(np.arange(MIN,MAX, 1), 'suit')\n",
    "suit.automf(3, names=names)\n",
    "#suit['low'] = fuzz.membership.trimf(np.arange(MIN,MAX, 1), [1,1,3])\n",
    "#suit['normal'] = fuzz.membership.trimf(np.arange(MIN,MAX, 1), [2,3,4])\n",
    "#suit['high'] = fuzz.membership.trimf(np.arange(MIN,MAX, 1), [3,5,5])\n",
    "suit.view()"
   ]
  },
  {
   "cell_type": "code",
   "execution_count": null,
   "id": "86047608",
   "metadata": {},
   "outputs": [],
   "source": [
    "chips = ['low', 'normal', 'high']\n",
    "MIN = 0; MAX = 10\n",
    "chips = ctrl.Antecedent(np.arange(MIN,MAX, 1), 'chips')\n",
    "chips.automf(3, names=names)\n",
    "chips['low'] = fuzz.membership.trimf(np.arange(MIN,MAX, 1), [0,0,4])\n",
    "chips['normal'] = fuzz.membership.trimf(np.arange(MIN,MAX, 1), [2,4,6])\n",
    "chips['high'] = fuzz.membership.trimf(np.arange(MIN,MAX, 1), [4,9,9])\n",
    "chips.view()"
   ]
  },
  {
   "cell_type": "code",
   "execution_count": null,
   "id": "ba63f8a4",
   "metadata": {},
   "outputs": [],
   "source": [
    "bet = ['low', 'normal', 'high']\n",
    "MIN = 0; MAX = 10\n",
    "bet = ctrl.Antecedent(np.arange(MIN,MAX, 1), 'bet')\n",
    "bet.automf(3, names=names)\n",
    "bet['low'] = fuzz.membership.trimf(np.arange(MIN,MAX, 1), [0,0,4])\n",
    "bet['normal'] = fuzz.membership.trimf(np.arange(MIN,MAX, 1), [2,4,6])\n",
    "bet['high'] = fuzz.membership.trimf(np.arange(MIN,MAX, 1), [4,9,9])\n",
    "bet.view()"
   ]
  },
  {
   "cell_type": "code",
   "execution_count": null,
   "id": "b06903f0",
   "metadata": {},
   "outputs": [],
   "source": [
    "MIN = 0; MAX = 10\n",
    "play = ctrl.Consequent(np.arange(MIN,MAX, 1), 'play')\n",
    "play.automf(4, names=['fold', 'all-in', 'call','raise'])\n",
    "play.view()"
   ]
  },
  {
   "cell_type": "code",
   "execution_count": null,
   "id": "c878143b",
   "metadata": {},
   "outputs": [],
   "source": [
    "## FUZZY RULES\n",
    "rules = [\n",
    "    ctrl.Rule(probRF['low'] | probSF['low'] | probFK['low'] | probFH['low'] | probF['low'] | probS['low'] | probTK['low'] | probTP['low'] | probOP['low'] | probHC['low'], suit['low']),\n",
    "    ctrl.Rule(probRF['normal'] | probSF['normal'] | probFK['normal'] | probFH['normal'] | probF['normal'] | probS['normal'] | probTK['normal'] | probTP['normal'] | probOP['normal'] | probHC['normal'], suit['normal']),\n",
    "    ctrl.Rule(probRF['high'] | probSF['high'] | probFK['high'] | probFH['high'] | probF['high'] | probS['high'] | probTK['high'] | probTP['high'] | probOP['high'] | probHC['high'], suit['high']),\n",
    "    ctrl.Rule(suit['low'], play['fold']),\n",
    "    ctrl.Rule(suit['normal'] & chips['low'], play['all-in']),\n",
    "    ctrl.Rule(suit['normal'] & chips['normal'] & bet['low'], play['call']),\n",
    "    ctrl.Rule(suit['normal'] & chips['normal'] & bet['normal'], play['call']),\n",
    "    ctrl.Rule(suit['normal'] & chips['normal'] & bet['high'], play['fold']),\n",
    "    ctrl.Rule(suit['normal'] & chips['high'] & bet['low'], play['all-in']),\n",
    "    ctrl.Rule(suit['normal'] & chips['high'] & bet['normal'], play['call']),\n",
    "    ctrl.Rule(suit['normal'] & chips['high'] & bet['high'], play['fold']),\n",
    "    ctrl.Rule(suit['high'] & chips['low'], play['all-in']),\n",
    "    ctrl.Rule(suit['high'] & chips['high'], play['all-in']),\n",
    "    ctrl.Rule(suit['high'] & chips['normal'] & bet['low'], play['raise']),\n",
    "    ctrl.Rule(suit['high'] & chips['normal'] & bet['normal'], play['call']),\n",
    "    ctrl.Rule(suit['high'] & chips['normal'] & bet['high'], play['all-in']),\n",
    "]\n",
    "problem_ctrl  = ctrl.ControlSystem(rules)\n",
    "problem = ctrl.ControlSystemSimulation(problem_ctrl)"
   ]
  },
  {
   "cell_type": "code",
   "execution_count": null,
   "id": "baed19ed",
   "metadata": {},
   "outputs": [],
   "source": [
    "## APPLICATION\n",
    "problem.input[\"probRF\"] = 0\n",
    "problem.input[\"probSF\"] = 0\n",
    "problem.input[\"probFK\"] = 0\n",
    "problem.input[\"probFH\"] = 0\n",
    "problem.input[\"probF\"] = 0\n",
    "problem.input[\"probS\"] = 0\n",
    "problem.input[\"probTK\"] = 0\n",
    "problem.input[\"probTP\"] = 0\n",
    "problem.input[\"probOP\"] = 0\n",
    "problem.input[\"probHC\"] = 0\n",
    "#problem.input['suit'] = 5\n",
    "problem.input['bet'] = 1\n",
    "problem.input['chips'] = 1\n",
    "\n",
    "problem.compute()\n",
    "\n",
    "print(problem.output['suit'])\n",
    "print(problem.output['play'])\n",
    "play.view(sim=problem)"
   ]
  }
 ],
 "metadata": {
  "kernelspec": {
   "display_name": "Python 3",
   "language": "python",
   "name": "python3"
  },
  "language_info": {
   "codemirror_mode": {
    "name": "ipython",
    "version": 3
   },
   "file_extension": ".py",
   "mimetype": "text/x-python",
   "name": "python",
   "nbconvert_exporter": "python",
   "pygments_lexer": "ipython3",
   "version": "3.8.10"
  },
  "vscode": {
   "interpreter": {
    "hash": "916dbcbb3f70747c44a77c7bcd40155683ae19c65e1c03b4aa3499c5328201f1"
   }
  }
 },
 "nbformat": 4,
 "nbformat_minor": 5
}
