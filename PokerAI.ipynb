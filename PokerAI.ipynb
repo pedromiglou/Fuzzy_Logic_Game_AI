{
 "cells": [
  {
   "attachments": {},
   "cell_type": "markdown",
   "id": "3693df1b",
   "metadata": {},
   "source": [
    "## Imports"
   ]
  },
  {
   "cell_type": "code",
   "execution_count": null,
   "id": "ce7c9205",
   "metadata": {},
   "outputs": [],
   "source": [
    "import random\n",
    "import numpy as np\n",
    "import skfuzzy as fuzz\n",
    "from skfuzzy import control as ctrl\n",
    "import matplotlib.pyplot as plt\n",
    "from utils import handQuality, boardQuality\n",
    "from treys import Card, Deck, Evaluator\n",
    "%matplotlib inline"
   ]
  },
  {
   "cell_type": "code",
   "execution_count": null,
   "id": "cd50d7c8",
   "metadata": {},
   "outputs": [],
   "source": [
    "# Tips\n",
    "# suit['low'] = fuzz.membership.trimf(np.arange(MIN,MAX, 1), [0,0,4]) # the last list means [start, max, end]\n",
    "# suit['normal'] = fuzz.membership.trapmf(np.arange(MIN,MAX, 1), [0,5,5,10]) # the last list means [start, max-start, max-end, end]"
   ]
  },
  {
   "cell_type": "code",
   "execution_count": null,
   "id": "eee559c9",
   "metadata": {},
   "outputs": [],
   "source": [
    "low = [0,0,0,1]\n",
    "medium = [0,1,25,50]\n",
    "high = [25,50,100,100]"
   ]
  },
  {
   "cell_type": "code",
   "execution_count": null,
   "id": "9aa8702a",
   "metadata": {},
   "outputs": [],
   "source": [
    "# Royal Flush\n",
    "hand_rank = 1\n",
    "names = ['low', 'normal', 'high']\n",
    "MIN = 0; MAX = 101\n",
    "probRF = ctrl.Antecedent(np.arange(MIN,MAX, 1), 'probRF')\n",
    "probRF.automf(3, names=names)\n",
    "probRF['low'] = fuzz.membership.trapmf(np.arange(MIN,MAX, 1), low) * hand_rank\n",
    "probRF['normal'] = fuzz.membership.trapmf(np.arange(MIN,MAX, 1), medium) * hand_rank\n",
    "probRF['high'] = fuzz.membership.trapmf(np.arange(MIN,MAX, 1), high) * hand_rank\n",
    "probRF.view()"
   ]
  },
  {
   "cell_type": "code",
   "execution_count": null,
   "id": "b9aec583",
   "metadata": {},
   "outputs": [],
   "source": [
    "# Straight Flush\n",
    "hand_rank = 0.9\n",
    "names = ['low', 'normal', 'high']\n",
    "MIN = 0; MAX = 101\n",
    "probSF = ctrl.Antecedent(np.arange(MIN,MAX, 1), 'probSF')\n",
    "probSF.automf(3, names=names)\n",
    "probSF['low'] = fuzz.membership.trapmf(np.arange(MIN,MAX, 1), low) * hand_rank\n",
    "probSF['normal'] = fuzz.membership.trapmf(np.arange(MIN,MAX, 1), medium) * hand_rank\n",
    "probSF['high'] = fuzz.membership.trapmf(np.arange(MIN,MAX, 1), high) * hand_rank\n",
    "probSF.view()"
   ]
  },
  {
   "cell_type": "code",
   "execution_count": null,
   "id": "21ce0b33",
   "metadata": {},
   "outputs": [],
   "source": [
    "# Four of a Kind\n",
    "hand_rank = 0.8\n",
    "names = ['low', 'normal', 'high']\n",
    "MIN = 0; MAX = 101\n",
    "probFK = ctrl.Antecedent(np.arange(MIN,MAX, 1), 'probFK')\n",
    "probFK.automf(3, names=names)\n",
    "probFK['low'] = fuzz.membership.trapmf(np.arange(MIN,MAX, 1), low) * hand_rank\n",
    "probFK['normal'] = fuzz.membership.trapmf(np.arange(MIN,MAX, 1), medium) * hand_rank\n",
    "probFK['high'] = fuzz.membership.trapmf(np.arange(MIN,MAX, 1), high) * hand_rank\n",
    "probFK.view()"
   ]
  },
  {
   "cell_type": "code",
   "execution_count": null,
   "id": "6abe0271",
   "metadata": {},
   "outputs": [],
   "source": [
    "# Full House\n",
    "hand_rank = 0.7\n",
    "names = ['low', 'normal', 'high']\n",
    "MIN = 0; MAX = 101\n",
    "probFH = ctrl.Antecedent(np.arange(MIN,MAX, 1), 'probFH')\n",
    "probFH.automf(3, names=names)\n",
    "probFH['low'] = fuzz.membership.trapmf(np.arange(MIN,MAX, 1), low) * hand_rank\n",
    "probFH['normal'] = fuzz.membership.trapmf(np.arange(MIN,MAX, 1), medium) * hand_rank\n",
    "probFH['high'] = fuzz.membership.trapmf(np.arange(MIN,MAX, 1), high) * hand_rank\n",
    "probFH.view()"
   ]
  },
  {
   "cell_type": "code",
   "execution_count": null,
   "id": "5fe661f7",
   "metadata": {},
   "outputs": [],
   "source": [
    "# Flush\n",
    "hand_rank = 0.6\n",
    "names = ['low', 'normal', 'high']\n",
    "MIN = 0; MAX = 101\n",
    "probF = ctrl.Antecedent(np.arange(MIN,MAX, 1), 'probF')\n",
    "probF.automf(3, names=names)\n",
    "probF['low'] = fuzz.membership.trapmf(np.arange(MIN,MAX, 1), low) * hand_rank\n",
    "probF['normal'] = fuzz.membership.trapmf(np.arange(MIN,MAX, 1), medium) * hand_rank\n",
    "probF['high'] = fuzz.membership.trapmf(np.arange(MIN,MAX, 1), high) * hand_rank\n",
    "probF.view()"
   ]
  },
  {
   "cell_type": "code",
   "execution_count": null,
   "id": "7ca5dbd5",
   "metadata": {},
   "outputs": [],
   "source": [
    "# Straight\n",
    "hand_rank = 0.5\n",
    "names = ['low', 'normal', 'high']\n",
    "MIN = 0; MAX = 101\n",
    "probS = ctrl.Antecedent(np.arange(MIN,MAX, 1), 'probS')\n",
    "probS.automf(3, names=names)\n",
    "probS['low'] = fuzz.membership.trapmf(np.arange(MIN,MAX, 1), low) * hand_rank\n",
    "probS['normal'] = fuzz.membership.trapmf(np.arange(MIN,MAX, 1), medium) * hand_rank\n",
    "probS['high'] = fuzz.membership.trapmf(np.arange(MIN,MAX, 1), high) * hand_rank\n",
    "probS.view()"
   ]
  },
  {
   "cell_type": "code",
   "execution_count": null,
   "id": "aae07c7b",
   "metadata": {},
   "outputs": [],
   "source": [
    "# Three of a Kind\n",
    "hand_rank = 0.4\n",
    "names = ['low', 'normal', 'high']\n",
    "MIN = 0; MAX = 101\n",
    "probTK = ctrl.Antecedent(np.arange(MIN,MAX, 1), 'probTK')\n",
    "probTK.automf(3, names=names)\n",
    "probTK['low'] = fuzz.membership.trapmf(np.arange(MIN,MAX, 1), low) * hand_rank\n",
    "probTK['normal'] = fuzz.membership.trapmf(np.arange(MIN,MAX, 1), medium) * hand_rank\n",
    "probTK['high'] = fuzz.membership.trapmf(np.arange(MIN,MAX, 1), high) * hand_rank\n",
    "probTK.view()"
   ]
  },
  {
   "cell_type": "code",
   "execution_count": null,
   "id": "dafb8e32",
   "metadata": {},
   "outputs": [],
   "source": [
    "# Two Pair\n",
    "hand_rank = 0.3\n",
    "names = ['low', 'normal', 'high']\n",
    "MIN = 0; MAX = 101\n",
    "probTP = ctrl.Antecedent(np.arange(MIN,MAX, 1), 'probTP')\n",
    "probTP.automf(3, names=names)\n",
    "probTP['low'] = fuzz.membership.trapmf(np.arange(MIN,MAX, 1), low) * hand_rank\n",
    "probTP['normal'] = fuzz.membership.trapmf(np.arange(MIN,MAX, 1), medium) * hand_rank\n",
    "probTP['high'] = fuzz.membership.trapmf(np.arange(MIN,MAX, 1), high) * hand_rank\n",
    "probTP.view()"
   ]
  },
  {
   "cell_type": "code",
   "execution_count": null,
   "id": "f765abe0",
   "metadata": {},
   "outputs": [],
   "source": [
    "# One Pair\n",
    "hand_rank = 0.2\n",
    "names = ['low', 'normal', 'high']\n",
    "MIN = 0; MAX = 101\n",
    "probOP = ctrl.Antecedent(np.arange(MIN,MAX, 1), 'probOP')\n",
    "probOP.automf(3, names=names)\n",
    "probOP['low'] = fuzz.membership.trapmf(np.arange(MIN,MAX, 1), low) * hand_rank\n",
    "probOP['normal'] = fuzz.membership.trapmf(np.arange(MIN,MAX, 1), medium) * hand_rank\n",
    "probOP['high'] = fuzz.membership.trapmf(np.arange(MIN,MAX, 1), high) * hand_rank\n",
    "probOP.view()"
   ]
  },
  {
   "cell_type": "code",
   "execution_count": null,
   "id": "d8f075c8",
   "metadata": {},
   "outputs": [],
   "source": [
    "# High Card\n",
    "hand_rank = 0.1\n",
    "names = ['low', 'normal', 'high']\n",
    "MIN = 0; MAX = 101\n",
    "probHC = ctrl.Antecedent(np.arange(MIN,MAX, 1), 'probHC')\n",
    "probHC.automf(3, names=names)\n",
    "probHC['low'] = fuzz.membership.trapmf(np.arange(MIN,MAX, 1), low) * hand_rank\n",
    "probHC['normal'] = fuzz.membership.trapmf(np.arange(MIN,MAX, 1), medium) * hand_rank\n",
    "probHC['high'] = fuzz.membership.trapmf(np.arange(MIN,MAX, 1), high) * hand_rank\n",
    "probHC.view()"
   ]
  },
  {
   "cell_type": "code",
   "execution_count": null,
   "id": "72fd5ccd",
   "metadata": {},
   "outputs": [],
   "source": [
    "# Board Quality\n",
    "names = ['low', 'normal', 'high']\n",
    "MIN = 1; MAX = 6\n",
    "boardQ = ctrl.Antecedent(np.arange(MIN,MAX, 1), 'boardQ')\n",
    "boardQ.automf(3, names=names)\n",
    "boardQ['low'] = fuzz.membership.trapmf(np.arange(MIN,MAX, 1), [1,1,1,3])\n",
    "boardQ['normal'] = fuzz.membership.trapmf(np.arange(MIN,MAX, 1), [1,3,3,5])\n",
    "boardQ['high'] = fuzz.membership.trapmf(np.arange(MIN,MAX, 1), [3,5,5,5])\n",
    "boardQ.view()"
   ]
  },
  {
   "cell_type": "code",
   "execution_count": null,
   "id": "5ae1a443",
   "metadata": {},
   "outputs": [],
   "source": [
    "# FUSSIFICATION\n",
    "names = ['low', 'normal', 'high']\n",
    "MIN = 1; MAX = 10\n",
    "suit = ctrl.Consequent(np.arange(MIN,MAX, 1), 'suit')\n",
    "suit.automf(3, names=names)\n",
    "#suit['low'] = fuzz.membership.trimf(np.arange(MIN,MAX, 1), [1,1,3])\n",
    "#suit['normal'] = fuzz.membership.trimf(np.arange(MIN,MAX, 1), [2,3,4])\n",
    "#suit['high'] = fuzz.membership.trimf(np.arange(MIN,MAX, 1), [3,5,5])\n",
    "suit.view()"
   ]
  },
  {
   "cell_type": "code",
   "execution_count": null,
   "id": "86047608",
   "metadata": {},
   "outputs": [],
   "source": [
    "chips = ['low', 'normal', 'high']\n",
    "MIN = 0; MAX = 41\n",
    "chips = ctrl.Antecedent(np.arange(MIN,MAX, 1), 'chips')\n",
    "chips.automf(3, names=names)\n",
    "chips['low'] = fuzz.membership.trapmf(np.arange(MIN,MAX, 1), [0,0,0,5])\n",
    "chips['normal'] = fuzz.membership.trapmf(np.arange(MIN,MAX, 1), [0,5,10,20])\n",
    "chips['high'] = fuzz.membership.trapmf(np.arange(MIN,MAX, 1), [10,20,40,40])\n",
    "chips.view()"
   ]
  },
  {
   "cell_type": "code",
   "execution_count": null,
   "id": "ba63f8a4",
   "metadata": {},
   "outputs": [],
   "source": [
    "bet = ['low', 'normal', 'high']\n",
    "MIN = 0; MAX = 41\n",
    "bet = ctrl.Antecedent(np.arange(MIN,MAX, 1), 'bet')\n",
    "bet.automf(3, names=names)\n",
    "bet['low'] = fuzz.membership.trapmf(np.arange(MIN,MAX, 1), [0,0,5,10])\n",
    "bet['normal'] = fuzz.membership.trapmf(np.arange(MIN,MAX, 1), [5,10,10,15])\n",
    "bet['high'] = fuzz.membership.trapmf(np.arange(MIN,MAX, 1), [10,15,40,40])\n",
    "bet.view()"
   ]
  },
  {
   "cell_type": "code",
   "execution_count": null,
   "id": "b06903f0",
   "metadata": {},
   "outputs": [],
   "source": [
    "MIN = 0; MAX = 10\n",
    "play = ctrl.Consequent(np.arange(MIN,MAX, 1), 'play')\n",
    "play.automf(4, names=['fold', 'call', 'small raise', 'big raise', 'all-in'])\n",
    "play.view()"
   ]
  },
  {
   "cell_type": "code",
   "execution_count": null,
   "id": "c878143b",
   "metadata": {},
   "outputs": [],
   "source": [
    "## FUZZY RULES\n",
    "rules = [\n",
    "    ctrl.Rule(probRF['low'] | probSF['low'] | probFK['low'] | probFH['low'] | probF['low'] | probS['low'] | probTK['low'] | probTP['low'] | probOP['low'] | probHC['low'], suit['low']),\n",
    "    ctrl.Rule(probRF['normal'] | probSF['normal'] | probFK['normal'] | probFH['normal'] | probF['normal'] | probS['normal'] | probTK['normal'] | probTP['normal'] | probOP['normal'] | probHC['normal'], suit['normal']),\n",
    "    ctrl.Rule(probRF['high'] | probSF['high'] | probFK['high'] | probFH['high'] | probF['high'] | probS['high'] | probTK['high'] | probTP['high'] | probOP['high'] | probHC['high'], suit['high']),\n",
    "    ctrl.Rule(suit['low'], play['fold']),\n",
    "    ctrl.Rule(suit['normal'] & chips['low'], play['all-in']),\n",
    "    ctrl.Rule(suit['normal'] & chips['normal'] & bet['low'], play['call']),\n",
    "    ctrl.Rule(suit['normal'] & chips['normal'] & bet['normal'], play['call']),\n",
    "    ctrl.Rule(suit['normal'] & chips['normal'] & bet['high'], play['fold']),\n",
    "    ctrl.Rule(suit['normal'] & chips['high'] & bet['low'], play['all-in']),\n",
    "    ctrl.Rule(suit['normal'] & chips['high'] & bet['normal'], play['call']),\n",
    "    ctrl.Rule(suit['normal'] & chips['high'] & bet['high'], play['fold']),\n",
    "    ctrl.Rule(suit['high'] & chips['low'], play['all-in']),\n",
    "    ctrl.Rule(suit['high'] & chips['high'], play['all-in']),\n",
    "    ctrl.Rule(suit['high'] & chips['normal'] & bet['low'], play['small raise']),\n",
    "    ctrl.Rule(suit['high'] & chips['normal'] & bet['normal'], play['call']),\n",
    "    ctrl.Rule(suit['high'] & chips['normal'] & bet['high'], play['all-in']),\n",
    "]\n",
    "problem_ctrl  = ctrl.ControlSystem(rules)\n",
    "problem = ctrl.ControlSystemSimulation(problem_ctrl)"
   ]
  },
  {
   "cell_type": "code",
   "execution_count": null,
   "id": "baed19ed",
   "metadata": {},
   "outputs": [],
   "source": [
    "def bestPlay(problem,bet,chips,probs):\n",
    "    ## APPLICATION\n",
    "    problem.input[\"probRF\"] = probs[\"Royal Flush\"]\n",
    "    problem.input[\"probSF\"] = probs[\"Straight Flush\"]\n",
    "    problem.input[\"probFK\"] = probs[\"Four of a Kind\"]\n",
    "    problem.input[\"probFH\"] = probs[\"Full House\"]\n",
    "    problem.input[\"probF\"] = probs[\"Flush\"]\n",
    "    problem.input[\"probS\"] = probs[\"Straight\"]\n",
    "    problem.input[\"probTK\"] = probs[\"Three of a Kind\"]\n",
    "    problem.input[\"probTP\"] = probs[\"Two Pair\"]\n",
    "    problem.input[\"probOP\"] = probs[\"Pair\"]\n",
    "    problem.input[\"probHC\"] = probs[\"High Card\"]\n",
    "    problem.input['bet'] = bet\n",
    "    problem.input['chips'] = chips\n",
    "\n",
    "    problem.compute()\n",
    "\n",
    "    return problem\n",
    "\n",
    "probs = {'Royal Flush': 0.0, 'Straight Flush': 0.0, 'Four of a Kind': 0.0, 'Full House': 0.0, 'Flush': 0.0, 'Straight': 0.0, 'Three of a Kind': 0.0, 'Two Pair': 0.0, 'Pair': 0.6956521739130435, 'High Card': 0.0}\n",
    "problem = bestPlay(problem,1,1,probs)\n",
    "print(problem.output['suit'])\n",
    "print(problem.output['play'])\n",
    "play.view(sim=problem)"
   ]
  },
  {
   "cell_type": "code",
   "execution_count": null,
   "id": "d0e22928",
   "metadata": {},
   "outputs": [],
   "source": [
    "wins=0\n",
    "losses=0\n",
    "\n",
    "# iterate full games\n",
    "for _ in range(5):\n",
    "    print(\"new full game\")\n",
    "    player1_chips = 20\n",
    "    player2_chips = 20\n",
    "\n",
    "    # iterate games until one side loses\n",
    "    while player1_chips !=0 and player2_chips != 0:\n",
    "        deck = Deck()\n",
    "        player1_hand = deck.draw(2)\n",
    "        player2_hand = deck.draw(2)\n",
    "        board = deck.draw(2)\n",
    "        #Card.print_pretty_cards(player1_hand)\n",
    "        #Card.print_pretty_cards(player2_hand)\n",
    "        #Card.print_pretty_cards(board)\n",
    "\n",
    "        player1_bet = 1\n",
    "        player2_bet = 1\n",
    "        # iterate each round\n",
    "        for i in range(3):\n",
    "            board = board + deck.draw(1)\n",
    "            probs = handQuality(player1_hand + board)\n",
    "            problem = bestPlay(problem,player1_bet,player1_chips,probs)\n",
    "\n",
    "            action1 = \"fold\" if problem.output['play'] < 1.5 else \"call\" if problem.output['play'] < 4.5 else \"raise\" if problem.output['play'] < 7.5 else \"all-in\"\n",
    "\n",
    "            action2 = random.choice([\"call\",\"call\",\"call\",\"all-in\",\"raise\",\"fold\"])\n",
    "\n",
    "            if action1==\"fold\":\n",
    "                break\n",
    "            elif action1==\"call\":\n",
    "                player1_bet = min(player2_bet, player1_chips)\n",
    "            elif action1==\"raise\":\n",
    "                player1_bet = min(player1_bet*2, player1_chips)\n",
    "            else:\n",
    "                player1_bet = min(player2_chips, player1_chips)\n",
    "            \n",
    "            if action2==\"fold\":\n",
    "                break\n",
    "            elif action2==\"call\":\n",
    "                player2_bet = min(player1_bet, player2_chips)\n",
    "            elif action1==\"raise\":\n",
    "                player2_bet = min(player2_bet*2, player2_chips)\n",
    "            else:\n",
    "                player2_bet = min(player2_chips, player1_chips)\n",
    "            \n",
    "            if i==2 and player1_bet!=player2_bet:\n",
    "                probs = handQuality(player1_hand + board)\n",
    "                problem = bestPlay(problem,player1_bet,player1_chips,probs)\n",
    "\n",
    "                if problem.output['play'] < 1.5:\n",
    "                    break\n",
    "                else:\n",
    "                    player1_bet = min(player2_bet, player1_chips)\n",
    "        \n",
    "        if action1==\"fold\":\n",
    "            player1_chips -= player1_bet\n",
    "            player2_chips += player1_bet\n",
    "            continue\n",
    "\n",
    "        if action2==\"fold\":\n",
    "            player1_chips += player2_bet\n",
    "            player2_chips -= player2_bet\n",
    "            continue\n",
    "\n",
    "        evaluator = Evaluator()\n",
    "\n",
    "        score1 = evaluator.evaluate(board, player1_hand)\n",
    "        score2 = evaluator.evaluate(board, player2_hand)\n",
    "\n",
    "        if score1<score2:\n",
    "            player1_chips -= player1_bet\n",
    "            player2_chips += player1_bet\n",
    "            continue\n",
    "\n",
    "        if score1>score2:\n",
    "            player1_chips += player2_bet\n",
    "            player2_chips -= player2_bet\n",
    "            continue\n",
    "\n",
    "    if player1_chips==0:\n",
    "        losses+=1\n",
    "    else:\n",
    "        wins+=1\n",
    "\n",
    "print(losses)\n",
    "print(wins)"
   ]
  }
 ],
 "metadata": {
  "kernelspec": {
   "display_name": "Python 3",
   "language": "python",
   "name": "python3"
  },
  "language_info": {
   "codemirror_mode": {
    "name": "ipython",
    "version": 3
   },
   "file_extension": ".py",
   "mimetype": "text/x-python",
   "name": "python",
   "nbconvert_exporter": "python",
   "pygments_lexer": "ipython3",
   "version": "3.10.9"
  },
  "vscode": {
   "interpreter": {
    "hash": "aee8b7b246df8f9039afb4144a1f6fd8d2ca17a180786b69acc140d282b71a49"
   }
  }
 },
 "nbformat": 4,
 "nbformat_minor": 5
}
