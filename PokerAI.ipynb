{
 "cells": [
  {
   "attachments": {},
   "cell_type": "markdown",
   "id": "3693df1b",
   "metadata": {},
   "source": [
    "## Imports"
   ]
  },
  {
   "cell_type": "code",
   "execution_count": null,
   "id": "ce7c9205",
   "metadata": {},
   "outputs": [],
   "source": [
    "import numpy as np\n",
    "import skfuzzy as fuzz\n",
    "from skfuzzy import control as ctrl\n",
    "import matplotlib.pyplot as plt\n",
    "%matplotlib inline"
   ]
  },
  {
   "cell_type": "code",
   "execution_count": null,
   "id": "5ae1a443",
   "metadata": {},
   "outputs": [],
   "source": [
    "# FUSSIFICATION\n",
    "names = ['low', 'normal', 'high']\n",
    "MIN = 0; MAX = 10\n",
    "suit = ctrl.Antecedent(np.arange(MIN,MAX, 1), 'suit')\n",
    "suit.automf(3, names=names)\n",
    "suit['low'] = fuzz.membership.trimf(np.arange(MIN,MAX, 1), [0,0,4]) # the last list means [start, max, end]\n",
    "suit['normal'] = fuzz.membership.trimf(np.arange(MIN,MAX, 1), [2,4,6])\n",
    "suit['high'] = fuzz.membership.trimf(np.arange(MIN,MAX, 1), [4,9,9])\n",
    "#suit['normal'] = fuzz.membership.trapmf(np.arange(MIN,MAX, 1), [0,5,5,10])\n",
    "suit.view()\n"
   ]
  },
  {
   "cell_type": "code",
   "execution_count": null,
   "id": "86047608",
   "metadata": {},
   "outputs": [],
   "source": [
    "chips = ['low', 'normal', 'high']\n",
    "MIN = 0; MAX = 10\n",
    "chips = ctrl.Antecedent(np.arange(MIN,MAX, 1), 'chips')\n",
    "chips.automf(3, names=names)\n",
    "chips['low'] = fuzz.membership.trimf(np.arange(MIN,MAX, 1), [0,0,4]) # the last list means [start, max, end]\n",
    "chips['normal'] = fuzz.membership.trimf(np.arange(MIN,MAX, 1), [2,4,6])\n",
    "chips['high'] = fuzz.membership.trimf(np.arange(MIN,MAX, 1), [4,9,9])\n",
    "chips.view()"
   ]
  },
  {
   "cell_type": "code",
   "execution_count": null,
   "id": "ba63f8a4",
   "metadata": {},
   "outputs": [],
   "source": [
    "bet = ['low', 'normal', 'high']\n",
    "MIN = 0; MAX = 10\n",
    "bet = ctrl.Antecedent(np.arange(MIN,MAX, 1), 'bet')\n",
    "bet.automf(3, names=names)\n",
    "bet['low'] = fuzz.membership.trimf(np.arange(MIN,MAX, 1), [0,0,4]) # the last list means [start, max, end]\n",
    "bet['normal'] = fuzz.membership.trimf(np.arange(MIN,MAX, 1), [2,4,6])\n",
    "bet['high'] = fuzz.membership.trimf(np.arange(MIN,MAX, 1), [4,9,9])\n",
    "bet.view()"
   ]
  },
  {
   "cell_type": "code",
   "execution_count": null,
   "id": "b06903f0",
   "metadata": {},
   "outputs": [],
   "source": [
    "MIN = 0; MAX = 10\n",
    "play = ctrl.Consequent(np.arange(MIN,MAX, 1), 'play')\n",
    "play.automf(4, names=['fold', 'all-in', 'call','raise'])\n",
    "play.view()"
   ]
  },
  {
   "cell_type": "code",
   "execution_count": null,
   "id": "c878143b",
   "metadata": {},
   "outputs": [],
   "source": [
    "## FUZZY RULES\n",
    "rules = [\n",
    "    ctrl.Rule(suit['low'], play['fold']),\n",
    "    ctrl.Rule(suit['normal'] & chips['low'], play['all-in']),\n",
    "    ctrl.Rule(suit['normal'] & chips['normal'] & bet['low'], play['call']),\n",
    "    ctrl.Rule(suit['normal'] & chips['normal'] & bet['normal'], play['call']),\n",
    "    ctrl.Rule(suit['normal'] & chips['normal'] & bet['high'], play['fold']),\n",
    "    ctrl.Rule(suit['normal'] & chips['high'] & bet['low'], play['all-in']),\n",
    "    ctrl.Rule(suit['normal'] & chips['high'] & bet['normal'], play['call']),\n",
    "    ctrl.Rule(suit['normal'] & chips['high'] & bet['high'], play['fold']),\n",
    "    ctrl.Rule(suit['high'] & chips['low'], play['all-in']),\n",
    "    ctrl.Rule(suit['high'] & chips['high'], play['all-in']),\n",
    "    ctrl.Rule(suit['high'] & chips['normal'] & bet['low'], play['raise']),\n",
    "    ctrl.Rule(suit['high'] & chips['normal'] & bet['normal'], play['call']),\n",
    "    ctrl.Rule(suit['high'] & chips['normal'] & bet['high'], play['all-in']),\n",
    "]\n",
    "problem_ctrl  = ctrl.ControlSystem(rules)\n",
    "problem = ctrl.ControlSystemSimulation(problem_ctrl)"
   ]
  },
  {
   "cell_type": "code",
   "execution_count": null,
   "id": "baed19ed",
   "metadata": {},
   "outputs": [],
   "source": [
    "## APPLICATION\n",
    "problem.input['suit'] = 5\n",
    "problem.input['bet'] = 1\n",
    "problem.input['chips'] = 1\n",
    "\n",
    "problem.compute()\n",
    "\n",
    "print(problem.output['play'])\n",
    "play.view(sim=problem)"
   ]
  }
 ],
 "metadata": {
  "kernelspec": {
   "display_name": "Python 3",
   "language": "python",
   "name": "python3"
  },
  "language_info": {
   "codemirror_mode": {
    "name": "ipython",
    "version": 3
   },
   "file_extension": ".py",
   "mimetype": "text/x-python",
   "name": "python",
   "nbconvert_exporter": "python",
   "pygments_lexer": "ipython3",
   "version": "3.8.10"
  },
  "vscode": {
   "interpreter": {
    "hash": "916dbcbb3f70747c44a77c7bcd40155683ae19c65e1c03b4aa3499c5328201f1"
   }
  }
 },
 "nbformat": 4,
 "nbformat_minor": 5
}
